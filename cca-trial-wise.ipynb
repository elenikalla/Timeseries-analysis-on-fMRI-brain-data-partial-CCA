{
 "cells": [
  {
   "cell_type": "code",
   "execution_count": 1,
   "metadata": {},
   "outputs": [],
   "source": [
    "import numpy as np\n",
    "import pandas as pd\n",
    "import nibabel as nib\n",
    "from nilearn.maskers import NiftiLabelsMasker\n",
    "from nilearn import datasets, image\n",
    "\n",
    "# === Define Subject IDs ===\n",
    "# subject_ids = [\n",
    "#     \"sub-0001\", \"sub-0002\", \"sub-0003\", \"sub-0004\", \"sub-0005\",\n",
    "#     \"sub-0006\", \"sub-0007\", \"sub-0008\", \"sub-0009\", \"sub-0011\"\n",
    "# ]\n",
    "subject_ids = [\n",
    "    \"sub-0001\", \"sub-0002\"\n",
    "]"
   ]
  },
  {
   "cell_type": "code",
   "execution_count": 2,
   "metadata": {},
   "outputs": [
    {
     "name": "stdout",
     "output_type": "stream",
     "text": [
      "(3.0, 3.0, 3.3, 2.0)\n"
     ]
    }
   ],
   "source": [
    "img = nib.load(\"sub-0001_task-restingstate_acq-seq_bold.nii.gz\")\n",
    "header = img.header\n",
    "print(header.get_zooms())"
   ]
  },
  {
   "cell_type": "code",
   "execution_count": 3,
   "metadata": {},
   "outputs": [],
   "source": [
    "# === Construct File Paths ===\n",
    "fmri_rest_files = [f\"{sid}_task-restingstate_acq-seq_bold.nii.gz\" for sid in subject_ids]\n",
    "fmri_task_files = [f\"{sid}_task-workingmemory_acq-seq_bold.nii.gz\" for sid in subject_ids]\n",
    "tsv_files = [f\"{sid}.tsv\" for sid in subject_ids]"
   ]
  },
  {
   "cell_type": "code",
   "execution_count": 4,
   "metadata": {},
   "outputs": [
    {
     "name": "stdout",
     "output_type": "stream",
     "text": [
      "[get_dataset_dir] Dataset found in C:\\Users\\elena\\nilearn_data\\schaefer_2018\n"
     ]
    }
   ],
   "source": [
    "# === Load Atlas and Define Masker ===\n",
    "atlas = datasets.fetch_atlas_schaefer_2018(n_rois=100)\n",
    "masker = NiftiLabelsMasker(atlas.maps, standardize=True)"
   ]
  },
  {
   "cell_type": "code",
   "execution_count": null,
   "metadata": {},
   "outputs": [],
   "source": [
    "from sklearn.cross_decomposition import CCA\n",
    "import numpy as np\n",
    "\n",
    "def compute_trialwise_cca_matrix(trial_tensor):\n",
    "    \"\"\"\n",
    "    trial_tensor: shape (n_trials, n_rois, n_trs)\n",
    "    Returns: cca_matrix (n_rois x n_rois) with first canonical correlation per ROI pair\n",
    "    \"\"\"\n",
    "    n_trials, n_rois, n_trs = trial_tensor.shape\n",
    "    cca_matrix = np.zeros((n_rois, n_rois))\n",
    "\n",
    "    for i in range(n_rois):\n",
    "        Xi = trial_tensor[:, i, :]  # shape: (n_trials, n_trs)\n",
    "        for j in range(i + 1, n_rois):\n",
    "            Xj = trial_tensor[:, j, :]\n",
    "\n",
    "            cca = CCA(n_components=1)\n",
    "            Xi_c, Xj_c = cca.fit_transform(Xi, Xj)\n",
    "            corr = np.corrcoef(Xi_c.T, Xj_c.T)[0, 1]\n",
    "\n",
    "            cca_matrix[i, j] = corr\n",
    "            cca_matrix[j, i] = corr\n",
    "\n",
    "    return cca_matrix"
   ]
  },
  {
   "cell_type": "code",
   "execution_count": null,
   "metadata": {},
   "outputs": [],
   "source": [
    "import numpy as np\n",
    "import pandas as pd\n",
    "import nibabel as nib\n",
    "from nilearn import image\n",
    "\n",
    "def extract_trial_tensor(fmri_path, events_path, masker, n_trs_per_trial=3):\n",
    "    \"\"\"\n",
    "    Εξάγει trial-based time series ανά ROI με σταθερό αριθμό TRs ανά trial.\n",
    "\n",
    "    Parameters:\n",
    "        fmri_path (str): path to .nii.gz file (task-based fMRI)\n",
    "        events_path (str): path to .tsv file (BIDS events)\n",
    "        masker (NiftiLabelsMasker): για εξαγωγή ROI time series\n",
    "        n_trs_per_trial (int): πόσοι TRs ανά trial (default = 3)\n",
    "\n",
    "    Returns:\n",
    "        trial_tensor: NumPy array (n_trials, n_rois, n_trs_per_trial)\n",
    "    \"\"\"\n",
    "    # === Load fMRI image and get TR ===\n",
    "    img = nib.load(fmri_path)\n",
    "    tr = img.header.get_zooms()[3]  # Repetition Time in seconds\n",
    "\n",
    "    # === Load Events File ===\n",
    "    events = pd.read_csv(events_path, sep=\"\\t\")\n",
    "\n",
    "    trial_data = []\n",
    "\n",
    "    for idx, row in events.iterrows():\n",
    "        onset = row[\"onset\"]\n",
    "        start_tr = int(np.floor(onset / tr))\n",
    "        tr_indices = list(range(start_tr, start_tr + n_trs_per_trial))\n",
    "\n",
    "        # === Extract Trial Image & Mask ===\n",
    "        trial_img = image.index_img(img, tr_indices)\n",
    "        trial_ts = masker.fit_transform(trial_img)  # (n_trs, n_rois)\n",
    "        trial_data.append(trial_ts.T)  # Transpose: (n_rois, n_trs)\n",
    "\n",
    "    # === Stack Trials into Tensor ===\n",
    "    trial_tensor = np.stack(trial_data, axis=0)  # (n_trials, n_rois, n_trs)\n",
    "    return trial_tensor\n"
   ]
  },
  {
   "cell_type": "code",
   "execution_count": null,
   "metadata": {},
   "outputs": [],
   "source": [
    "trial_tensor = extract_trial_tensor(\n",
    "    fmri_path=\"sub-0002_task-workingmemory_acq-seq_bold.nii.gz\",\n",
    "    events_path=\"sub-0002.tsv\",\n",
    "    masker=masker,\n",
    "    n_trs_per_trial=3\n",
    ")\n",
    "\n",
    "print(\"Trial tensor shape:\", trial_tensor.shape)\n",
    "# Αναμένεται: (n_trials, 100, 3)"
   ]
  },
  {
   "cell_type": "code",
   "execution_count": null,
   "metadata": {},
   "outputs": [],
   "source": [
    "cca_matrix = compute_trialwise_cca_matrix(trial_tensor)\n",
    "import matplotlib.pyplot as plt\n",
    "import seaborn as sns\n",
    "\n",
    "plt.figure(figsize=(10, 8))\n",
    "sns.heatmap(cca_matrix, cmap=\"coolwarm\", center=0, square=True)\n",
    "plt.title(\"CCA Matrix Across ROIs (Trial-Based)\")\n",
    "plt.xlabel(\"ROI\")\n",
    "plt.ylabel(\"ROI\")\n",
    "plt.show()"
   ]
  },
  {
   "cell_type": "code",
   "execution_count": null,
   "metadata": {},
   "outputs": [],
   "source": []
  }
 ],
 "metadata": {
  "kernelspec": {
   "display_name": "Python 3",
   "language": "python",
   "name": "python3"
  },
  "language_info": {
   "codemirror_mode": {
    "name": "ipython",
    "version": 3
   },
   "file_extension": ".py",
   "mimetype": "text/x-python",
   "name": "python",
   "nbconvert_exporter": "python",
   "pygments_lexer": "ipython3",
   "version": "3.9.5"
  }
 },
 "nbformat": 4,
 "nbformat_minor": 2
}
